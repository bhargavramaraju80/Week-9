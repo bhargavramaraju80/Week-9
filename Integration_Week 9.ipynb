{
 "cells": [
  {
   "cell_type": "markdown",
   "metadata": {
    "id": "r8ptD-gV-m8k"
   },
   "source": [
    "# **Imports**"
   ]
  },
  {
   "cell_type": "code",
   "execution_count": 1,
   "metadata": {
    "ExecuteTime": {
     "end_time": "2021-05-14T18:59:03.092293Z",
     "start_time": "2021-05-14T18:58:45.114432Z"
    },
    "id": "erVUZ5wwHNWp"
   },
   "outputs": [
    {
     "ename": "XGBoostError",
     "evalue": "XGBoost Library (libxgboost.dylib) could not be loaded.\nLikely causes:\n  * OpenMP runtime is not installed (vcomp140.dll or libgomp-1.dll for Windows, libomp.dylib for Mac OSX, libgomp.so for Linux and other UNIX-like OSes). Mac OSX users: Run `brew install libomp` to install OpenMP runtime.\n  * You are running 32-bit Python on a 64-bit OS\nError message(s): ['dlopen(/Users/bhargavaramarajudandu/opt/anaconda3/lib/python3.8/site-packages/xgboost/lib/libxgboost.dylib, 6): Library not loaded: /usr/local/opt/libomp/lib/libomp.dylib\\n  Referenced from: /Users/bhargavaramarajudandu/opt/anaconda3/lib/python3.8/site-packages/xgboost/lib/libxgboost.dylib\\n  Reason: image not found']\n",
     "output_type": "error",
     "traceback": [
      "\u001b[0;31m---------------------------------------------------------------------------\u001b[0m",
      "\u001b[0;31mXGBoostError\u001b[0m                              Traceback (most recent call last)",
      "\u001b[0;32m<ipython-input-1-bf00cce08788>\u001b[0m in \u001b[0;36m<module>\u001b[0;34m\u001b[0m\n\u001b[1;32m     17\u001b[0m \u001b[0;32mfrom\u001b[0m \u001b[0msklearn\u001b[0m\u001b[0;34m.\u001b[0m\u001b[0msvm\u001b[0m \u001b[0;32mimport\u001b[0m \u001b[0mSVC\u001b[0m\u001b[0;34m\u001b[0m\u001b[0;34m\u001b[0m\u001b[0m\n\u001b[1;32m     18\u001b[0m \u001b[0;32mfrom\u001b[0m \u001b[0msklearn\u001b[0m\u001b[0;34m.\u001b[0m\u001b[0mensemble\u001b[0m \u001b[0;32mimport\u001b[0m \u001b[0mRandomForestClassifier\u001b[0m\u001b[0;34m\u001b[0m\u001b[0;34m\u001b[0m\u001b[0m\n\u001b[0;32m---> 19\u001b[0;31m \u001b[0;32mfrom\u001b[0m \u001b[0mxgboost\u001b[0m \u001b[0;32mimport\u001b[0m \u001b[0mXGBClassifier\u001b[0m\u001b[0;34m\u001b[0m\u001b[0;34m\u001b[0m\u001b[0m\n\u001b[0m\u001b[1;32m     20\u001b[0m \u001b[0;32mfrom\u001b[0m \u001b[0msklearn\u001b[0m\u001b[0;34m.\u001b[0m\u001b[0mneural_network\u001b[0m \u001b[0;32mimport\u001b[0m \u001b[0mMLPClassifier\u001b[0m\u001b[0;34m\u001b[0m\u001b[0;34m\u001b[0m\u001b[0m\n\u001b[1;32m     21\u001b[0m \u001b[0;34m\u001b[0m\u001b[0m\n",
      "\u001b[0;32m~/opt/anaconda3/lib/python3.8/site-packages/xgboost/__init__.py\u001b[0m in \u001b[0;36m<module>\u001b[0;34m\u001b[0m\n\u001b[1;32m      7\u001b[0m \u001b[0;32mimport\u001b[0m \u001b[0mos\u001b[0m\u001b[0;34m\u001b[0m\u001b[0;34m\u001b[0m\u001b[0m\n\u001b[1;32m      8\u001b[0m \u001b[0;34m\u001b[0m\u001b[0m\n\u001b[0;32m----> 9\u001b[0;31m \u001b[0;32mfrom\u001b[0m \u001b[0;34m.\u001b[0m\u001b[0mcore\u001b[0m \u001b[0;32mimport\u001b[0m \u001b[0mDMatrix\u001b[0m\u001b[0;34m,\u001b[0m \u001b[0mDeviceQuantileDMatrix\u001b[0m\u001b[0;34m,\u001b[0m \u001b[0mBooster\u001b[0m\u001b[0;34m\u001b[0m\u001b[0;34m\u001b[0m\u001b[0m\n\u001b[0m\u001b[1;32m     10\u001b[0m \u001b[0;32mfrom\u001b[0m \u001b[0;34m.\u001b[0m\u001b[0mtraining\u001b[0m \u001b[0;32mimport\u001b[0m \u001b[0mtrain\u001b[0m\u001b[0;34m,\u001b[0m \u001b[0mcv\u001b[0m\u001b[0;34m\u001b[0m\u001b[0;34m\u001b[0m\u001b[0m\n\u001b[1;32m     11\u001b[0m \u001b[0;32mfrom\u001b[0m \u001b[0;34m.\u001b[0m \u001b[0;32mimport\u001b[0m \u001b[0mrabit\u001b[0m  \u001b[0;31m# noqa\u001b[0m\u001b[0;34m\u001b[0m\u001b[0;34m\u001b[0m\u001b[0m\n",
      "\u001b[0;32m~/opt/anaconda3/lib/python3.8/site-packages/xgboost/core.py\u001b[0m in \u001b[0;36m<module>\u001b[0;34m\u001b[0m\n\u001b[1;32m    193\u001b[0m \u001b[0;34m\u001b[0m\u001b[0m\n\u001b[1;32m    194\u001b[0m \u001b[0;31m# load the XGBoost library globally\u001b[0m\u001b[0;34m\u001b[0m\u001b[0;34m\u001b[0m\u001b[0;34m\u001b[0m\u001b[0m\n\u001b[0;32m--> 195\u001b[0;31m \u001b[0m_LIB\u001b[0m \u001b[0;34m=\u001b[0m \u001b[0m_load_lib\u001b[0m\u001b[0;34m(\u001b[0m\u001b[0;34m)\u001b[0m\u001b[0;34m\u001b[0m\u001b[0;34m\u001b[0m\u001b[0m\n\u001b[0m\u001b[1;32m    196\u001b[0m \u001b[0;34m\u001b[0m\u001b[0m\n\u001b[1;32m    197\u001b[0m \u001b[0;34m\u001b[0m\u001b[0m\n",
      "\u001b[0;32m~/opt/anaconda3/lib/python3.8/site-packages/xgboost/core.py\u001b[0m in \u001b[0;36m_load_lib\u001b[0;34m()\u001b[0m\n\u001b[1;32m    176\u001b[0m     \u001b[0;32mif\u001b[0m \u001b[0;32mnot\u001b[0m \u001b[0mlib_success\u001b[0m\u001b[0;34m:\u001b[0m\u001b[0;34m\u001b[0m\u001b[0;34m\u001b[0m\u001b[0m\n\u001b[1;32m    177\u001b[0m         \u001b[0mlibname\u001b[0m \u001b[0;34m=\u001b[0m \u001b[0mos\u001b[0m\u001b[0;34m.\u001b[0m\u001b[0mpath\u001b[0m\u001b[0;34m.\u001b[0m\u001b[0mbasename\u001b[0m\u001b[0;34m(\u001b[0m\u001b[0mlib_paths\u001b[0m\u001b[0;34m[\u001b[0m\u001b[0;36m0\u001b[0m\u001b[0;34m]\u001b[0m\u001b[0;34m)\u001b[0m\u001b[0;34m\u001b[0m\u001b[0;34m\u001b[0m\u001b[0m\n\u001b[0;32m--> 178\u001b[0;31m         raise XGBoostError(\n\u001b[0m\u001b[1;32m    179\u001b[0m             \u001b[0;34m'XGBoost Library ({}) could not be loaded.\\n'\u001b[0m\u001b[0;34m.\u001b[0m\u001b[0mformat\u001b[0m\u001b[0;34m(\u001b[0m\u001b[0mlibname\u001b[0m\u001b[0;34m)\u001b[0m \u001b[0;34m+\u001b[0m\u001b[0;34m\u001b[0m\u001b[0;34m\u001b[0m\u001b[0m\n\u001b[1;32m    180\u001b[0m             \u001b[0;34m'Likely causes:\\n'\u001b[0m \u001b[0;34m+\u001b[0m\u001b[0;34m\u001b[0m\u001b[0;34m\u001b[0m\u001b[0m\n",
      "\u001b[0;31mXGBoostError\u001b[0m: XGBoost Library (libxgboost.dylib) could not be loaded.\nLikely causes:\n  * OpenMP runtime is not installed (vcomp140.dll or libgomp-1.dll for Windows, libomp.dylib for Mac OSX, libgomp.so for Linux and other UNIX-like OSes). Mac OSX users: Run `brew install libomp` to install OpenMP runtime.\n  * You are running 32-bit Python on a 64-bit OS\nError message(s): ['dlopen(/Users/bhargavaramarajudandu/opt/anaconda3/lib/python3.8/site-packages/xgboost/lib/libxgboost.dylib, 6): Library not loaded: /usr/local/opt/libomp/lib/libomp.dylib\\n  Referenced from: /Users/bhargavaramarajudandu/opt/anaconda3/lib/python3.8/site-packages/xgboost/lib/libxgboost.dylib\\n  Reason: image not found']\n"
     ]
    }
   ],
   "source": [
    "import numpy as np\n",
    "import pandas as pd\n",
    "import matplotlib.pyplot as plt\n",
    "import seaborn as sns\n",
    "import plotly.express as px\n",
    "from scipy import stats\n",
    "import collections\n",
    "from sklearn.preprocessing import StandardScaler, RobustScaler, MinMaxScaler\n",
    "from sklearn.metrics import precision_score, recall_score, f1_score, roc_auc_score, accuracy_score, classification_report, roc_curve, confusion_matrix\n",
    "from sklearn.model_selection import train_test_split\n",
    "from sklearn.utils import resample\n",
    "from IPython.core.interactiveshell import InteractiveShell\n",
    "import warnings\n",
    "\n",
    "#importing packages for modeling\n",
    "from sklearn.linear_model import LogisticRegression, RidgeClassifier\n",
    "from sklearn.svm import SVC\n",
    "from sklearn.ensemble import RandomForestClassifier\n",
    "from xgboost import XGBClassifier\n",
    "from sklearn.neural_network import MLPClassifier\n",
    "\n",
    "import tensorflow as tf\n",
    "from tensorflow import keras\n",
    "from tensorflow.keras import layers\n",
    "from keras.layers import Dropout\n",
    "from keras.models import Sequential\n",
    "from keras.layers import Dense\n",
    "from keras.layers import BatchNormalization\n",
    "\n",
    "%matplotlib inline\n",
    "InteractiveShell.ast_node_interactivity = \"all\"\n",
    "pd.set_option('display.max_rows', None)\n",
    "pd.set_option('display.max_columns', None)\n",
    "pd.set_option('display.width', None)\n",
    "pd.set_option('display.max_colwidth', None)\n",
    "warnings.filterwarnings('ignore')"
   ]
  },
  {
   "cell_type": "code",
   "execution_count": null,
   "metadata": {
    "ExecuteTime": {
     "end_time": "2021-05-14T18:59:03.124258Z",
     "start_time": "2021-05-14T18:59:03.101258Z"
    }
   },
   "outputs": [],
   "source": [
    "target_names=['Non-Persistent', 'Persistent']"
   ]
  },
  {
   "cell_type": "markdown",
   "metadata": {},
   "source": [
    "# Functions"
   ]
  },
  {
   "cell_type": "code",
   "execution_count": null,
   "metadata": {
    "ExecuteTime": {
     "end_time": "2021-05-14T18:59:03.156259Z",
     "start_time": "2021-05-14T18:59:03.132255Z"
    }
   },
   "outputs": [],
   "source": [
    "def evaluation_metrics(y_test, y_pre, target_names):\n",
    "    #scores\n",
    "    print(\"Accuracy :\",accuracy_score(y_test,y_pre))\n",
    "    print(\"Precision :\",precision_score(y_test,y_pre))\n",
    "    print(\"Recall :\",recall_score(y_test,y_pre))\n",
    "    print(\"F1 Score :\",f1_score(y_test,y_pre))\n",
    "\n",
    "    print(classification_report(y_test, y_pre, target_names=target_names))\n",
    "\n",
    "    #AUC\n",
    "    fpr, tpr, _ = roc_curve(y_test,  y_pre)\n",
    "    auc = roc_auc_score(y_test, y_pre)\n",
    "    print(\"AUC :\", auc)\n",
    "\n",
    "    #ROC\n",
    "    plt.plot(fpr,tpr,label=\"uc={:.3f})\".format(auc))\n",
    "    plt.plot([0, 1], [0, 1], 'k--')\n",
    "    plt.xlabel('False positive rate')\n",
    "    plt.ylabel('True positive rate')\n",
    "    plt.title('ROC curve')\n",
    "    plt.legend(loc=4)\n",
    "    plt.show()\n",
    "\n",
    "    #CM matrix\n",
    "    matrix = confusion_matrix(y_test, y_pre)\n",
    "    cm = pd.DataFrame(matrix, index=target_names, columns=target_names)\n",
    "\n",
    "    sns.heatmap(cm, annot=True, cbar=None, cmap=\"Blues\", fmt = 'g')\n",
    "    plt.title(\"Confusion Matrix\"), plt.tight_layout()\n",
    "    plt.ylabel(\"True Class\"), plt.xlabel(\"Predicted Class\")\n",
    "    plt.show()"
   ]
  },
  {
   "cell_type": "code",
   "execution_count": null,
   "metadata": {
    "ExecuteTime": {
     "end_time": "2021-05-14T18:59:03.172253Z",
     "start_time": "2021-05-14T18:59:03.161255Z"
    }
   },
   "outputs": [],
   "source": [
    "def logistic(X_train,X_test,y_train,y_test):\n",
    "    lr=LogisticRegression()\n",
    "    lr.fit(X_train,y_train)\n",
    "    y_pre=lr.predict(X_test)\n",
    "    evaluation_metrics(y_test, y_pre, target_names)"
   ]
  },
  {
   "cell_type": "code",
   "execution_count": null,
   "metadata": {
    "ExecuteTime": {
     "end_time": "2021-05-14T18:59:03.204254Z",
     "start_time": "2021-05-14T18:59:03.176255Z"
    }
   },
   "outputs": [],
   "source": [
    "def Ridge(X_train,X_test,y_train,y_test):\n",
    "    #train the model\n",
    "    ridge = RidgeClassifier(random_state=2)\n",
    "    ridge.fit(X_train, y_train)\n",
    "    #predictions\n",
    "    y_pre = ridge.predict(X_test)\n",
    "    evaluation_metrics(y_test, y_pre, target_names)\n",
    "  "
   ]
  },
  {
   "cell_type": "markdown",
   "metadata": {
    "heading_collapsed": true
   },
   "source": [
    "# Reading data"
   ]
  },
  {
   "cell_type": "code",
   "execution_count": null,
   "metadata": {
    "ExecuteTime": {
     "end_time": "2021-05-14T18:59:09.733743Z",
     "start_time": "2021-05-14T18:59:03.210255Z"
    },
    "hidden": true,
    "id": "1e-a0oh9WuWm"
   },
   "outputs": [],
   "source": [
    "xls = pd.ExcelFile('Healthcare_dataset.xlsx')\n",
    "df= pd.read_excel(xls, 'Dataset')"
   ]
  },
  {
   "cell_type": "markdown",
   "metadata": {
    "heading_collapsed": true,
    "id": "D9nzSWNgW8Z6"
   },
   "source": [
    "# **Data Understanding**"
   ]
  },
  {
   "cell_type": "code",
   "execution_count": null,
   "metadata": {
    "ExecuteTime": {
     "end_time": "2021-05-14T18:59:09.844563Z",
     "start_time": "2021-05-14T18:59:09.736562Z"
    },
    "colab": {
     "base_uri": "https://localhost:8080/",
     "height": 309
    },
    "hidden": true,
    "id": "yWvFA1utWnyE",
    "outputId": "33b548f9-471a-46c9-c88b-09613d90c2fd"
   },
   "outputs": [],
   "source": [
    "df.head()"
   ]
  },
  {
   "cell_type": "code",
   "execution_count": null,
   "metadata": {
    "ExecuteTime": {
     "end_time": "2021-05-14T18:59:09.860568Z",
     "start_time": "2021-05-14T18:59:09.849568Z"
    },
    "colab": {
     "base_uri": "https://localhost:8080/"
    },
    "hidden": true,
    "id": "0FMx3EEDXcKO",
    "outputId": "31ae88ee-cb78-4f25-c3ba-96993b6416d0"
   },
   "outputs": [],
   "source": [
    "df.shape"
   ]
  },
  {
   "cell_type": "code",
   "execution_count": null,
   "metadata": {
    "ExecuteTime": {
     "end_time": "2021-05-14T18:59:09.892564Z",
     "start_time": "2021-05-14T18:59:09.865566Z"
    },
    "colab": {
     "base_uri": "https://localhost:8080/"
    },
    "hidden": true,
    "id": "Zsxp7axNYOeJ",
    "outputId": "f6778f46-43a5-4931-c42b-31d1615b906a"
   },
   "outputs": [],
   "source": [
    "df.dtypes"
   ]
  },
  {
   "cell_type": "code",
   "execution_count": null,
   "metadata": {
    "ExecuteTime": {
     "end_time": "2021-05-14T18:59:09.970564Z",
     "start_time": "2021-05-14T18:59:09.896567Z"
    },
    "colab": {
     "base_uri": "https://localhost:8080/"
    },
    "hidden": true,
    "id": "96QHQ5_MYRtV",
    "outputId": "cff071cc-7eac-4198-94e8-2aa3a0898e26"
   },
   "outputs": [],
   "source": [
    "df.info()"
   ]
  },
  {
   "cell_type": "code",
   "execution_count": null,
   "metadata": {
    "ExecuteTime": {
     "end_time": "2021-05-14T18:59:09.986567Z",
     "start_time": "2021-05-14T18:59:09.974565Z"
    },
    "hidden": true,
    "id": "jDHPr1VkY0jt"
   },
   "outputs": [],
   "source": [
    "df.columns=[x.lower() for x in df.columns]"
   ]
  },
  {
   "cell_type": "markdown",
   "metadata": {
    "hidden": true,
    "id": "xAp-9rPYZ2nS"
   },
   "source": [
    "### **Analyzing dependency of variable (Before Transformation)**"
   ]
  },
  {
   "cell_type": "code",
   "execution_count": null,
   "metadata": {
    "ExecuteTime": {
     "end_time": "2021-05-14T18:59:10.019569Z",
     "start_time": "2021-05-14T18:59:09.991567Z"
    },
    "colab": {
     "base_uri": "https://localhost:8080/"
    },
    "hidden": true,
    "id": "TeL0hfhsZ-S4",
    "outputId": "4bdf7a28-82f2-4baa-e1ba-d7c06d22c591"
   },
   "outputs": [],
   "source": [
    "classes=df['persistency_flag'].value_counts()\n",
    "normal_share=round(classes[0]/df['persistency_flag'].count()*100,2)\n",
    "fraud_share=round(classes[1]/df['persistency_flag'].count()*100, 2)\n",
    "print(\"Non-Persistent : {} %\".format(normal_share))\n",
    "print(\"Persistent : {} %\".format(fraud_share))"
   ]
  },
  {
   "cell_type": "code",
   "execution_count": null,
   "metadata": {
    "ExecuteTime": {
     "end_time": "2021-05-14T18:59:10.223568Z",
     "start_time": "2021-05-14T18:59:10.022567Z"
    },
    "colab": {
     "base_uri": "https://localhost:8080/",
     "height": 1000
    },
    "hidden": true,
    "id": "DvHRlba-brI_",
    "outputId": "651a114d-4265-4ad8-94ec-81c425263ac0"
   },
   "outputs": [],
   "source": [
    "cat_corr = df.apply(lambda x : pd.factorize(x)[0]).corr(method='pearson', min_periods=1)[['persistency_flag']]\n",
    "np.abs(cat_corr).sort_values(by=['persistency_flag'], ascending=False)"
   ]
  },
  {
   "cell_type": "markdown",
   "metadata": {
    "heading_collapsed": true,
    "hidden": true,
    "id": "jehqZ63CZUrc"
   },
   "source": [
    "## **Missing Values**"
   ]
  },
  {
   "cell_type": "code",
   "execution_count": null,
   "metadata": {
    "ExecuteTime": {
     "end_time": "2021-05-14T18:59:10.270564Z",
     "start_time": "2021-05-14T18:59:10.226566Z"
    },
    "colab": {
     "base_uri": "https://localhost:8080/"
    },
    "hidden": true,
    "id": "l76QlvIPZeOR",
    "outputId": "2723a23d-f3b9-4048-a68e-72b735c9db04",
    "scrolled": true
   },
   "outputs": [],
   "source": [
    "\n",
    "df.isnull().sum()"
   ]
  },
  {
   "cell_type": "markdown",
   "metadata": {
    "heading_collapsed": true,
    "hidden": true,
    "id": "Q1ltwgCtZgeG"
   },
   "source": [
    "## **Outlier Analysis**"
   ]
  },
  {
   "cell_type": "code",
   "execution_count": null,
   "metadata": {
    "ExecuteTime": {
     "end_time": "2021-05-14T18:59:14.269720Z",
     "start_time": "2021-05-14T18:59:10.273566Z"
    },
    "colab": {
     "base_uri": "https://localhost:8080/",
     "height": 542
    },
    "hidden": true,
    "id": "m3r2jlxjc9XL",
    "outputId": "175dc17b-b1c2-4a81-fe69-6d2b7a384f9c"
   },
   "outputs": [],
   "source": [
    "fig = px.histogram(df, x=\"dexa_freq_during_rx\",\n",
    "                   marginal=\"box\", # or violin, rug\n",
    "                   hover_data=df.columns)\n",
    "fig.show()"
   ]
  },
  {
   "cell_type": "code",
   "execution_count": null,
   "metadata": {
    "ExecuteTime": {
     "end_time": "2021-05-14T18:59:16.349714Z",
     "start_time": "2021-05-14T18:59:14.273720Z"
    },
    "colab": {
     "base_uri": "https://localhost:8080/",
     "height": 542
    },
    "hidden": true,
    "id": "cwtoWQ58dFEo",
    "outputId": "b547f2ab-39d9-493b-e28b-19f8c96ad795"
   },
   "outputs": [],
   "source": [
    "fig = px.histogram(df, x=\"count_of_risks\",\n",
    "                   marginal=\"box\", # or violin, rug\n",
    "                   hover_data=df.columns)\n",
    "fig.show()"
   ]
  },
  {
   "cell_type": "code",
   "execution_count": null,
   "metadata": {
    "ExecuteTime": {
     "end_time": "2021-05-14T18:59:17.141875Z",
     "start_time": "2021-05-14T18:59:16.353738Z"
    },
    "colab": {
     "base_uri": "https://localhost:8080/",
     "height": 623
    },
    "hidden": true,
    "id": "F09jzB8AfsCl",
    "outputId": "6d451ad3-fedb-4b69-aeb4-886104f09862"
   },
   "outputs": [],
   "source": [
    "plt.figure(figsize=(20,10))\n",
    "var =\"count_of_risks\"\n",
    "sns.boxplot(x=var,y =\"persistency_flag\",data=df)"
   ]
  },
  {
   "cell_type": "code",
   "execution_count": null,
   "metadata": {
    "ExecuteTime": {
     "end_time": "2021-05-14T18:59:17.585878Z",
     "start_time": "2021-05-14T18:59:17.144877Z"
    },
    "colab": {
     "base_uri": "https://localhost:8080/",
     "height": 623
    },
    "hidden": true,
    "id": "wwPE5l0aghLu",
    "outputId": "4d3bb99f-b15a-4fe7-da2f-37e3a056a17e"
   },
   "outputs": [],
   "source": [
    "plt.figure(figsize=(20,10))\n",
    "var =\"dexa_freq_during_rx\"\n",
    "sns.boxplot(x=var,y =\"persistency_flag\",data=df)"
   ]
  },
  {
   "cell_type": "code",
   "execution_count": null,
   "metadata": {
    "ExecuteTime": {
     "end_time": "2021-05-14T18:59:17.601879Z",
     "start_time": "2021-05-14T18:59:17.589878Z"
    },
    "colab": {
     "base_uri": "https://localhost:8080/"
    },
    "hidden": true,
    "id": "j58W6QHbgxSq",
    "outputId": "7f430ab6-5edd-4af8-bc32-529c7c1bd645"
   },
   "outputs": [],
   "source": [
    "print(\"Count of risks skweness: \",df[\"count_of_risks\"].skew())\n",
    "print(\"Count of risks Kurtosis: \",df[\"count_of_risks\"].kurt())\n",
    "\n",
    "## Data shows a moderate positive skewed data on this column and fairly platykurtic\n",
    "## Means the data has little outliers"
   ]
  },
  {
   "cell_type": "code",
   "execution_count": null,
   "metadata": {
    "ExecuteTime": {
     "end_time": "2021-05-14T18:59:17.632880Z",
     "start_time": "2021-05-14T18:59:17.606883Z"
    },
    "colab": {
     "base_uri": "https://localhost:8080/"
    },
    "hidden": true,
    "id": "wkBZVarzg_AS",
    "outputId": "43e1dc7d-0c4d-43ce-fc2c-23bfca250dbd"
   },
   "outputs": [],
   "source": [
    "print(\"dexa_freq_during_rx skweness: \",df[\"dexa_freq_during_rx\"].skew())\n",
    "print(\"dexa_freq_during_rx Kurtosis: \",df[\"dexa_freq_during_rx\"].kurt())\n",
    "## very high positive skewed and also with very high kurtosis(Platykurtic)\n",
    "## This suggests Presence of alot of outliers."
   ]
  },
  {
   "cell_type": "code",
   "execution_count": null,
   "metadata": {
    "ExecuteTime": {
     "end_time": "2021-05-14T18:59:17.663874Z",
     "start_time": "2021-05-14T18:59:17.636880Z"
    },
    "colab": {
     "base_uri": "https://localhost:8080/"
    },
    "hidden": true,
    "id": "AfQS9WsWhOL0",
    "outputId": "4447b684-718b-4a0e-b42a-2defd0148bfb"
   },
   "outputs": [],
   "source": [
    "#standardizing dexa_freq_during_rx df\n",
    "dexa_scaled = StandardScaler().fit_transform(df['dexa_freq_during_rx'][:,np.newaxis]);\n",
    "low_range = dexa_scaled[dexa_scaled[:,0].argsort()][:10]\n",
    "high_range= dexa_scaled[dexa_scaled[:,0].argsort()][-10:]\n",
    "print('outer range (low) of the distribution:')\n",
    "print(low_range)\n",
    "print('\\nouter range (high) of the distribution:')\n",
    "print(high_range)"
   ]
  },
  {
   "cell_type": "code",
   "execution_count": null,
   "metadata": {
    "ExecuteTime": {
     "end_time": "2021-05-14T18:59:17.679879Z",
     "start_time": "2021-05-14T18:59:17.667886Z"
    },
    "hidden": true,
    "id": "IxG_xm7ckiXS"
   },
   "outputs": [],
   "source": [
    "scaler = RobustScaler()\n",
    "df['dexa_freq_during_rx'] = scaler.fit_transform(df['dexa_freq_during_rx'].values.reshape(-1,1))"
   ]
  },
  {
   "cell_type": "code",
   "execution_count": null,
   "metadata": {
    "ExecuteTime": {
     "end_time": "2021-05-14T18:59:17.711875Z",
     "start_time": "2021-05-14T18:59:17.691882Z"
    },
    "hidden": true,
    "id": "lsT1IiD0kfOR"
   },
   "outputs": [],
   "source": [
    "scaler = RobustScaler()\n",
    "df['count_of_risks'] = scaler.fit_transform(df['count_of_risks'].values.reshape(-1,1))"
   ]
  },
  {
   "cell_type": "code",
   "execution_count": null,
   "metadata": {
    "ExecuteTime": {
     "end_time": "2021-05-14T18:59:17.775872Z",
     "start_time": "2021-05-14T18:59:17.719882Z"
    },
    "colab": {
     "base_uri": "https://localhost:8080/",
     "height": 631
    },
    "hidden": true,
    "id": "uycGDi7KhrC7",
    "outputId": "26d30e53-752c-4e84-c7d1-6f91dba48d0b"
   },
   "outputs": [],
   "source": [
    "''' Detection '''\n",
    "# IQR\n",
    "Q1 = np.percentile(df['dexa_freq_during_rx'], 25, \n",
    "                   interpolation = 'midpoint') \n",
    "  \n",
    "Q3 = np.percentile(df['dexa_freq_during_rx'], 75,\n",
    "                   interpolation = 'midpoint') \n",
    "IQR = Q3 - Q1 \n",
    "  \n",
    "print(\"Old Shape: \", df.shape) \n",
    "  \n",
    "# Upper bound\n",
    "upper = np.where(df['dexa_freq_during_rx'] >= (Q3+1.5*IQR))\n",
    "# Lower bound\n",
    "lower = np.where(df['dexa_freq_during_rx'] <= (Q1-1.5*IQR))\n",
    "  \n",
    "print(\"lower\",lower[0])\n",
    "print(\"Upper\",upper[0])\n",
    "\n",
    "''' Removing the Outliers '''\n",
    "df.drop(upper[0], inplace = True)\n",
    "df.drop(lower[0], inplace = True)\n",
    "\n",
    "print(\"New Shape: \", df.shape)\n",
    "\n",
    "df = df.reset_index(drop=True)"
   ]
  },
  {
   "cell_type": "code",
   "execution_count": null,
   "metadata": {
    "ExecuteTime": {
     "end_time": "2021-05-14T18:59:17.837879Z",
     "start_time": "2021-05-14T18:59:17.778880Z"
    },
    "colab": {
     "base_uri": "https://localhost:8080/",
     "height": 104
    },
    "hidden": true,
    "id": "fxsu1kgEkczQ",
    "outputId": "d46c4799-b58b-44a4-953f-1ffadb4e14ce"
   },
   "outputs": [],
   "source": [
    "''' Detection '''\n",
    "# IQR\n",
    "Q1 = np.percentile(df['count_of_risks'], 25, \n",
    "                   interpolation = 'midpoint') \n",
    "  \n",
    "Q3 = np.percentile(df['count_of_risks'], 75,\n",
    "                   interpolation = 'midpoint') \n",
    "IQR = Q3 - Q1 \n",
    "  \n",
    "print(\"Old Shape: \", df.shape) \n",
    "  \n",
    "# Upper bound\n",
    "upper = np.where(df['count_of_risks'] >= (Q3+1.5*IQR))\n",
    "# Lower bound\n",
    "lower = np.where(df['count_of_risks'] <= (Q1-1.5*IQR))\n",
    "  \n",
    "print(\"lower\",lower[0])\n",
    "print(\"Upper\",upper[0])\n",
    "\n",
    "''' Removing the Outliers '''\n",
    "df.drop(upper[0], inplace = True)\n",
    "df.drop(lower[0], inplace = True)\n",
    "\n",
    "print(\"New Shape: \", df.shape) \n",
    "\n",
    "df = df.reset_index(drop=True)"
   ]
  },
  {
   "cell_type": "markdown",
   "metadata": {
    "heading_collapsed": true,
    "hidden": true,
    "id": "JHghpr4un2OC"
   },
   "source": [
    "## **Describe Data**"
   ]
  },
  {
   "cell_type": "code",
   "execution_count": null,
   "metadata": {
    "ExecuteTime": {
     "end_time": "2021-05-14T18:59:18.197878Z",
     "start_time": "2021-05-14T18:59:17.841880Z"
    },
    "colab": {
     "base_uri": "https://localhost:8080/",
     "height": 210
    },
    "hidden": true,
    "id": "ZjZLBeAzn9f6",
    "outputId": "dfeb4a0c-e5bc-4039-a670-e321dc485803"
   },
   "outputs": [],
   "source": [
    "#distribution of categorical features\n",
    "df.describe(include=['O'])"
   ]
  },
  {
   "cell_type": "code",
   "execution_count": null,
   "metadata": {
    "ExecuteTime": {
     "end_time": "2021-05-14T18:59:18.229880Z",
     "start_time": "2021-05-14T18:59:18.201882Z"
    },
    "colab": {
     "base_uri": "https://localhost:8080/",
     "height": 111
    },
    "hidden": true,
    "id": "5AtWnnPboEdc",
    "outputId": "befbc211-14d9-4ae4-8a1a-1d6c0a678b9b"
   },
   "outputs": [],
   "source": [
    "df.groupby(['persistency_flag']).mean().T"
   ]
  },
  {
   "cell_type": "code",
   "execution_count": null,
   "metadata": {
    "ExecuteTime": {
     "end_time": "2021-05-14T18:59:18.260881Z",
     "start_time": "2021-05-14T18:59:18.234880Z"
    },
    "colab": {
     "base_uri": "https://localhost:8080/",
     "height": 111
    },
    "hidden": true,
    "id": "LWvhzbzFoV2q",
    "outputId": "3765cec5-d593-4860-dd85-b198e0517593"
   },
   "outputs": [],
   "source": [
    "df.groupby(['gender']).mean().T"
   ]
  },
  {
   "cell_type": "code",
   "execution_count": null,
   "metadata": {
    "ExecuteTime": {
     "end_time": "2021-05-14T18:59:18.307876Z",
     "start_time": "2021-05-14T18:59:18.265881Z"
    },
    "colab": {
     "base_uri": "https://localhost:8080/",
     "height": 204
    },
    "hidden": true,
    "id": "OPV-BDIUoo4a",
    "outputId": "5b370112-bb8a-4930-ffb3-558c3bf05b51"
   },
   "outputs": [],
   "source": [
    "df.groupby(['race']).mean()"
   ]
  },
  {
   "cell_type": "code",
   "execution_count": null,
   "metadata": {
    "ExecuteTime": {
     "end_time": "2021-05-14T18:59:18.353880Z",
     "start_time": "2021-05-14T18:59:18.310876Z"
    },
    "colab": {
     "base_uri": "https://localhost:8080/",
     "height": 111
    },
    "hidden": true,
    "id": "GTZyooAfo5ES",
    "outputId": "b1ad816f-903c-4aeb-e977-c8f1eb675b9b"
   },
   "outputs": [],
   "source": [
    "df.groupby(['ethnicity']).mean().T"
   ]
  },
  {
   "cell_type": "code",
   "execution_count": null,
   "metadata": {
    "ExecuteTime": {
     "end_time": "2021-05-14T18:59:18.385874Z",
     "start_time": "2021-05-14T18:59:18.356882Z"
    },
    "colab": {
     "base_uri": "https://localhost:8080/",
     "height": 111
    },
    "hidden": true,
    "id": "HvMetblYo_fS",
    "outputId": "809506a9-ef41-4cb2-98e9-ba27fc09e91e"
   },
   "outputs": [],
   "source": [
    "df.groupby(['age_bucket']).mean().T"
   ]
  },
  {
   "cell_type": "code",
   "execution_count": null,
   "metadata": {
    "ExecuteTime": {
     "end_time": "2021-05-14T18:59:18.463879Z",
     "start_time": "2021-05-14T18:59:18.388880Z"
    },
    "colab": {
     "base_uri": "https://localhost:8080/",
     "height": 267
    },
    "hidden": true,
    "id": "8ht9BhiYpFhg",
    "outputId": "f02f0600-871c-4f64-e5ef-2d4f6ded3129"
   },
   "outputs": [],
   "source": [
    "df.groupby(['ntm_speciality']).mean().T"
   ]
  },
  {
   "cell_type": "code",
   "execution_count": null,
   "metadata": {
    "ExecuteTime": {
     "end_time": "2021-05-14T18:59:18.495876Z",
     "start_time": "2021-05-14T18:59:18.467878Z"
    },
    "colab": {
     "base_uri": "https://localhost:8080/",
     "height": 111
    },
    "hidden": true,
    "id": "yogWu4aopLqZ",
    "outputId": "a4cd1d37-a5e2-4572-f5da-20e74b22d26d"
   },
   "outputs": [],
   "source": [
    "df.groupby(['ntm_specialist_flag']).mean().T"
   ]
  },
  {
   "cell_type": "code",
   "execution_count": null,
   "metadata": {
    "ExecuteTime": {
     "end_time": "2021-05-14T18:59:18.541878Z",
     "start_time": "2021-05-14T18:59:18.501878Z"
    },
    "colab": {
     "base_uri": "https://localhost:8080/",
     "height": 111
    },
    "hidden": true,
    "id": "mwYPrLeNpRsw",
    "outputId": "948b598b-c657-4ea3-adfd-a9199f153f60"
   },
   "outputs": [],
   "source": [
    "df.groupby(['ntm_speciality_bucket']).mean().T"
   ]
  },
  {
   "cell_type": "code",
   "execution_count": null,
   "metadata": {
    "ExecuteTime": {
     "end_time": "2021-05-14T18:59:18.588878Z",
     "start_time": "2021-05-14T18:59:18.545880Z"
    },
    "colab": {
     "base_uri": "https://localhost:8080/",
     "height": 111
    },
    "hidden": true,
    "id": "JI2XC1jupZcV",
    "outputId": "ace20feb-4bd8-4f6d-e981-5fcda3dbe732"
   },
   "outputs": [],
   "source": [
    "df.groupby(['ntm_speciality_bucket']).mean().T"
   ]
  },
  {
   "cell_type": "code",
   "execution_count": null,
   "metadata": {
    "ExecuteTime": {
     "end_time": "2021-05-14T18:59:18.619882Z",
     "start_time": "2021-05-14T18:59:18.592875Z"
    },
    "colab": {
     "base_uri": "https://localhost:8080/",
     "height": 111
    },
    "hidden": true,
    "id": "bYZjcHPQpey1",
    "outputId": "9a2d0d9c-a2d0-4f57-cae3-4015335b72b0"
   },
   "outputs": [],
   "source": [
    "df.groupby(['risk_chronic_liver_disease']).mean().T"
   ]
  },
  {
   "cell_type": "code",
   "execution_count": null,
   "metadata": {
    "ExecuteTime": {
     "end_time": "2021-05-14T18:59:18.651874Z",
     "start_time": "2021-05-14T18:59:18.623884Z"
    },
    "colab": {
     "base_uri": "https://localhost:8080/",
     "height": 111
    },
    "hidden": true,
    "id": "9BeMUGmfpl6_",
    "outputId": "d6980b2d-fac5-484a-b5cf-ac482b85d621"
   },
   "outputs": [],
   "source": [
    "df.groupby(['risk_family_history_of_osteoporosis']).mean().T"
   ]
  },
  {
   "cell_type": "code",
   "execution_count": null,
   "metadata": {
    "ExecuteTime": {
     "end_time": "2021-05-14T18:59:18.683875Z",
     "start_time": "2021-05-14T18:59:18.654880Z"
    },
    "colab": {
     "base_uri": "https://localhost:8080/",
     "height": 111
    },
    "hidden": true,
    "id": "w6qJK8ajpttd",
    "outputId": "04447039-297b-44a3-f7d8-296d9bee1390"
   },
   "outputs": [],
   "source": [
    "df.groupby(['risk_low_calcium_intake']).mean().T"
   ]
  },
  {
   "cell_type": "code",
   "execution_count": null,
   "metadata": {
    "ExecuteTime": {
     "end_time": "2021-05-14T18:59:18.731875Z",
     "start_time": "2021-05-14T18:59:18.691877Z"
    },
    "colab": {
     "base_uri": "https://localhost:8080/",
     "height": 111
    },
    "hidden": true,
    "id": "kjV5W-O0qYGf",
    "outputId": "213aeff8-3ac7-4d34-cb20-8faed0b54971"
   },
   "outputs": [],
   "source": [
    "df.groupby(['risk_vitamin_d_insufficiency']).mean().T"
   ]
  },
  {
   "cell_type": "code",
   "execution_count": null,
   "metadata": {
    "ExecuteTime": {
     "end_time": "2021-05-14T18:59:18.763871Z",
     "start_time": "2021-05-14T18:59:18.735891Z"
    },
    "colab": {
     "base_uri": "https://localhost:8080/",
     "height": 111
    },
    "hidden": true,
    "id": "JDG3LfeZq6jA",
    "outputId": "40f058e8-f5e1-4ee9-cf07-aa4b3952a29a"
   },
   "outputs": [],
   "source": [
    "df.groupby(['risk_excessive_thinness']).mean().T"
   ]
  },
  {
   "cell_type": "code",
   "execution_count": null,
   "metadata": {
    "ExecuteTime": {
     "end_time": "2021-05-14T18:59:18.794883Z",
     "start_time": "2021-05-14T18:59:18.768883Z"
    },
    "colab": {
     "base_uri": "https://localhost:8080/",
     "height": 111
    },
    "hidden": true,
    "id": "DO1aAeGorEOr",
    "outputId": "50ff5cd3-82ce-4d58-ec4c-cec2e95a13ca"
   },
   "outputs": [],
   "source": [
    "df.groupby(['risk_hysterectomy_oophorectomy']).mean().T"
   ]
  },
  {
   "cell_type": "code",
   "execution_count": null,
   "metadata": {
    "ExecuteTime": {
     "end_time": "2021-05-14T18:59:18.825879Z",
     "start_time": "2021-05-14T18:59:18.797877Z"
    },
    "colab": {
     "base_uri": "https://localhost:8080/",
     "height": 111
    },
    "hidden": true,
    "id": "8h5e7RXHrNW9",
    "outputId": "aa583e6c-f3be-4607-84de-efbbfd975f00"
   },
   "outputs": [],
   "source": [
    "df.groupby(['risk_estrogen_deficiency']).mean().T"
   ]
  },
  {
   "cell_type": "code",
   "execution_count": null,
   "metadata": {
    "ExecuteTime": {
     "end_time": "2021-05-14T18:59:18.857880Z",
     "start_time": "2021-05-14T18:59:18.828877Z"
    },
    "colab": {
     "base_uri": "https://localhost:8080/",
     "height": 111
    },
    "hidden": true,
    "id": "j-PPGCb9rWEt",
    "outputId": "232395b2-ffa4-42d6-e153-61fa04fe36c8"
   },
   "outputs": [],
   "source": [
    "df.groupby(['risk_immobilization']).mean().T"
   ]
  },
  {
   "cell_type": "code",
   "execution_count": null,
   "metadata": {
    "ExecuteTime": {
     "end_time": "2021-05-14T18:59:18.887878Z",
     "start_time": "2021-05-14T18:59:18.860879Z"
    },
    "colab": {
     "base_uri": "https://localhost:8080/",
     "height": 111
    },
    "hidden": true,
    "id": "flbWN6ynrdcQ",
    "outputId": "ea3ce8c9-8521-4428-eeb5-7ac2c531809b"
   },
   "outputs": [],
   "source": [
    "\n",
    "df.groupby(['risk_recurring_falls']).mean().T"
   ]
  },
  {
   "cell_type": "markdown",
   "metadata": {
    "id": "vsItTHTSlHJ-"
   },
   "source": [
    "# **Data Wrangling , Transformation and Standardization**"
   ]
  },
  {
   "cell_type": "code",
   "execution_count": null,
   "metadata": {
    "ExecuteTime": {
     "end_time": "2021-05-14T18:59:18.903875Z",
     "start_time": "2021-05-14T18:59:18.890877Z"
    },
    "id": "u9HBL3_-lGjG"
   },
   "outputs": [],
   "source": [
    "df = df.drop(['ptid'], axis=1)"
   ]
  },
  {
   "cell_type": "code",
   "execution_count": null,
   "metadata": {
    "ExecuteTime": {
     "end_time": "2021-05-14T18:59:19.013876Z",
     "start_time": "2021-05-14T18:59:18.907886Z"
    },
    "id": "MNw8jcuVlgkB"
   },
   "outputs": [],
   "source": [
    "mapper = {'N': 0, 'Y':1}\n",
    "df = df.replace(mapper)"
   ]
  },
  {
   "cell_type": "code",
   "execution_count": null,
   "metadata": {
    "ExecuteTime": {
     "end_time": "2021-05-14T18:59:19.125879Z",
     "start_time": "2021-05-14T18:59:19.018879Z"
    },
    "colab": {
     "base_uri": "https://localhost:8080/",
     "height": 309
    },
    "id": "2-W7_-Ch9R0g",
    "outputId": "f2c02eab-6ee6-438d-9efd-cdedf2dfab86"
   },
   "outputs": [],
   "source": [
    "df['persistency_flag'] = df['persistency_flag'].replace(['Non-Persistent', 'Persistent'],[0, 1])\n",
    "df.head()"
   ]
  },
  {
   "cell_type": "markdown",
   "metadata": {
    "heading_collapsed": true,
    "id": "iK_0WG3vMYU7"
   },
   "source": [
    "### **Analyzing dependency of variable (After Transformation)**"
   ]
  },
  {
   "cell_type": "code",
   "execution_count": null,
   "metadata": {
    "ExecuteTime": {
     "end_time": "2021-05-14T18:59:19.441878Z",
     "start_time": "2021-05-14T18:59:19.129887Z"
    },
    "colab": {
     "base_uri": "https://localhost:8080/",
     "height": 1000
    },
    "hidden": true,
    "id": "9tKnJ6DHMfgJ",
    "outputId": "1b76aa22-6582-4efb-a895-4714097ec2e5"
   },
   "outputs": [],
   "source": [
    "np.abs(df.corr()).sort_values(by=['persistency_flag'], ascending=False)"
   ]
  },
  {
   "cell_type": "code",
   "execution_count": null,
   "metadata": {
    "ExecuteTime": {
     "end_time": "2021-05-14T18:59:27.326961Z",
     "start_time": "2021-05-14T18:59:19.444875Z"
    },
    "colab": {
     "base_uri": "https://localhost:8080/",
     "height": 986
    },
    "hidden": true,
    "id": "P5f2YVmoL7DB",
    "outputId": "02b93e62-e60c-4ceb-cd3a-975e0a9475f5"
   },
   "outputs": [],
   "source": [
    "plt.subplots(figsize=(15,10))\n",
    "sns.heatmap(df.corr())"
   ]
  },
  {
   "cell_type": "markdown",
   "metadata": {
    "id": "wawSDRsyrTrb"
   },
   "source": [
    "### *Creating Dummy values*"
   ]
  },
  {
   "cell_type": "code",
   "execution_count": null,
   "metadata": {
    "ExecuteTime": {
     "end_time": "2021-05-14T18:59:27.404967Z",
     "start_time": "2021-05-14T18:59:27.329961Z"
    },
    "id": "O8v74m3gpQ-S"
   },
   "outputs": [],
   "source": [
    "X=df.drop(['persistency_flag'],axis=1)\n",
    "y=df['persistency_flag']\n",
    "\n",
    "X = pd.get_dummies(X)\n",
    "X_train,X_test,y_train,y_test=train_test_split(X,y,random_state=42,test_size=0.3)"
   ]
  },
  {
   "cell_type": "code",
   "execution_count": null,
   "metadata": {
    "ExecuteTime": {
     "end_time": "2021-05-14T18:59:27.548963Z",
     "start_time": "2021-05-14T18:59:27.407963Z"
    },
    "colab": {
     "base_uri": "https://localhost:8080/",
     "height": 258
    },
    "id": "UzEJQ-pvqMtY",
    "outputId": "90b5f10b-964d-4fdd-b985-c529b230b9d0"
   },
   "outputs": [],
   "source": [
    "df_train = X_train.copy()\n",
    "df_train['persistency_flag'] = y_train\n",
    "df_train.head()"
   ]
  },
  {
   "cell_type": "markdown",
   "metadata": {
    "heading_collapsed": true,
    "id": "GtdInFivrMaW"
   },
   "source": [
    "### *Come Imbalanced dataset*"
   ]
  },
  {
   "cell_type": "code",
   "execution_count": null,
   "metadata": {
    "ExecuteTime": {
     "end_time": "2021-05-14T18:59:27.579961Z",
     "start_time": "2021-05-14T18:59:27.553964Z"
    },
    "colab": {
     "base_uri": "https://localhost:8080/"
    },
    "hidden": true,
    "id": "icUAwg3aqUVg",
    "outputId": "f17776e4-f941-4d67-81ca-839cf54fdb80"
   },
   "outputs": [],
   "source": [
    "classes=df_train['persistency_flag'].value_counts()\n",
    "normal_share=round(classes[0]/df_train['persistency_flag'].count()*100,2)\n",
    "fraud_share=round(classes[1]/df_train['persistency_flag'].count()*100, 2)\n",
    "print(\"Non-Persistent : {} %\".format(normal_share))\n",
    "print(\"Persistent : {} %\".format(fraud_share))"
   ]
  },
  {
   "cell_type": "code",
   "execution_count": null,
   "metadata": {
    "ExecuteTime": {
     "end_time": "2021-05-14T18:59:27.718966Z",
     "start_time": "2021-05-14T18:59:27.587996Z"
    },
    "colab": {
     "base_uri": "https://localhost:8080/",
     "height": 542
    },
    "hidden": true,
    "id": "h_lzkHBMqbCr",
    "outputId": "e267c282-659a-4ec9-a7dc-d6bf102ce914"
   },
   "outputs": [],
   "source": [
    "fig = px.histogram(df_train, x=\"persistency_flag\", color=\"persistency_flag\", title=\"Persistent class histogram\")\n",
    "fig.show()"
   ]
  },
  {
   "cell_type": "markdown",
   "metadata": {
    "id": "NIzp9jmLrGXm"
   },
   "source": [
    "### *Upsampling*"
   ]
  },
  {
   "cell_type": "code",
   "execution_count": null,
   "metadata": {
    "ExecuteTime": {
     "end_time": "2021-05-14T18:59:27.749959Z",
     "start_time": "2021-05-14T18:59:27.721964Z"
    },
    "colab": {
     "base_uri": "https://localhost:8080/"
    },
    "id": "oIMRADpXqkl1",
    "outputId": "8873c346-d887-41c8-b14a-a2dbef953cd2"
   },
   "outputs": [],
   "source": [
    "# Upsampling\n",
    "df_minority_upsampled = resample(df_train[df_train['persistency_flag'] == 1], \n",
    "                                 replace=True,     # sample with replacement\n",
    "                                 n_samples=len(df_train[df_train['persistency_flag'] == 0]),    # to match majority class\n",
    "                                 random_state=123) # reproducible results\n",
    " \n",
    "# Combine majority class with upsampled minority class\n",
    "df_train = pd.concat([df_train[df_train['persistency_flag'] == 0], df_minority_upsampled])\n",
    " \n",
    "# Display new class counts\n",
    "df_train.persistency_flag.value_counts()"
   ]
  },
  {
   "cell_type": "code",
   "execution_count": null,
   "metadata": {
    "ExecuteTime": {
     "end_time": "2021-05-14T18:59:27.764961Z",
     "start_time": "2021-05-14T18:59:27.752970Z"
    },
    "id": "3EZ69_Kqqy22"
   },
   "outputs": [],
   "source": [
    "X_train=df_train.drop(['persistency_flag'],axis=1)\n",
    "y_train=df_train['persistency_flag']"
   ]
  },
  {
   "cell_type": "code",
   "execution_count": null,
   "metadata": {
    "ExecuteTime": {
     "end_time": "2021-05-14T18:59:27.858961Z",
     "start_time": "2021-05-14T18:59:27.767964Z"
    },
    "colab": {
     "base_uri": "https://localhost:8080/",
     "height": 542
    },
    "id": "0LVjpIeWq5_E",
    "outputId": "f9043806-9393-4a6c-a9b5-9e5a4fa78232"
   },
   "outputs": [],
   "source": [
    "fig = px.histogram(df_train, x=\"persistency_flag\", color=\"persistency_flag\", title=\"Persistent class histogram\")\n",
    "fig.show()"
   ]
  }
 ],
 "metadata": {
  "colab": {
   "collapsed_sections": [
    "JNOhKTK5uD_2"
   ],
   "name": "Integration - 20210705.ipynb",
   "provenance": []
  },
  "kernelspec": {
   "display_name": "Python 3",
   "language": "python",
   "name": "python3"
  },
  "language_info": {
   "codemirror_mode": {
    "name": "ipython",
    "version": 3
   },
   "file_extension": ".py",
   "mimetype": "text/x-python",
   "name": "python",
   "nbconvert_exporter": "python",
   "pygments_lexer": "ipython3",
   "version": "3.8.8"
  },
  "toc": {
   "base_numbering": 1,
   "nav_menu": {},
   "number_sections": true,
   "sideBar": true,
   "skip_h1_title": false,
   "title_cell": "Table of Contents",
   "title_sidebar": "Contents",
   "toc_cell": false,
   "toc_position": {},
   "toc_section_display": true,
   "toc_window_display": false
  }
 },
 "nbformat": 4,
 "nbformat_minor": 1
}
